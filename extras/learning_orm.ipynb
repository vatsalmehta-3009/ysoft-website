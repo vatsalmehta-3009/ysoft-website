{
 "cells": [
  {
   "cell_type": "code",
   "execution_count": 1,
   "metadata": {},
   "outputs": [
    {
     "name": "stdout",
     "output_type": "stream",
     "text": [
      "2025-02-19 20:26:44,915 INFO sqlalchemy.engine.Engine SELECT CAST(SERVERPROPERTY('ProductVersion') AS VARCHAR)\n",
      "2025-02-19 20:26:44,915 INFO sqlalchemy.engine.Engine [raw sql] ()\n",
      "2025-02-19 20:26:44,921 INFO sqlalchemy.engine.Engine SELECT schema_name()\n",
      "2025-02-19 20:26:44,922 INFO sqlalchemy.engine.Engine [generated in 0.00090s] ()\n",
      "2025-02-19 20:26:44,943 INFO sqlalchemy.engine.Engine SELECT CAST('test max support' AS NVARCHAR(max))\n",
      "2025-02-19 20:26:44,944 INFO sqlalchemy.engine.Engine [generated in 0.00117s] ()\n",
      "2025-02-19 20:26:44,949 INFO sqlalchemy.engine.Engine SELECT 1 FROM fn_listextendedproperty(default, default, default, default, default, default, default)\n",
      "2025-02-19 20:26:44,950 INFO sqlalchemy.engine.Engine [generated in 0.00122s] ()\n",
      "2025-02-19 20:26:45,043 INFO sqlalchemy.engine.Engine BEGIN (implicit)\n",
      "2025-02-19 20:26:45,051 INFO sqlalchemy.engine.Engine SELECT [INFORMATION_SCHEMA].[TABLES].[TABLE_NAME] \n",
      "FROM [INFORMATION_SCHEMA].[TABLES] \n",
      "WHERE ([INFORMATION_SCHEMA].[TABLES].[TABLE_TYPE] = CAST(? AS NVARCHAR(max)) OR [INFORMATION_SCHEMA].[TABLES].[TABLE_TYPE] = CAST(? AS NVARCHAR(max))) AND [INFORMATION_SCHEMA].[TABLES].[TABLE_NAME] = CAST(? AS NVARCHAR(max)) AND [INFORMATION_SCHEMA].[TABLES].[TABLE_SCHEMA] = CAST(? AS NVARCHAR(max))\n",
      "2025-02-19 20:26:45,052 INFO sqlalchemy.engine.Engine [generated in 0.00130s] ('BASE TABLE', 'VIEW', 'users', 'dbo')\n",
      "2025-02-19 20:26:45,067 INFO sqlalchemy.engine.Engine \n",
      "CREATE TABLE users (\n",
      "\tid INTEGER NOT NULL IDENTITY, \n",
      "\tname VARCHAR(50) NOT NULL, \n",
      "\tage INTEGER NOT NULL, \n",
      "\tPRIMARY KEY (id)\n",
      ")\n",
      "\n",
      "\n",
      "2025-02-19 20:26:45,068 INFO sqlalchemy.engine.Engine [no key 0.00124s] ()\n",
      "2025-02-19 20:26:45,071 INFO sqlalchemy.engine.Engine COMMIT\n"
     ]
    }
   ],
   "source": [
    "from sqlalchemy import create_engine, Column, Integer, String\n",
    "from sqlalchemy.orm import sessionmaker, declarative_base\n",
    "\n",
    "# Database connection details\n",
    "server = 'localhost\\\\SQLEXPRESS'\n",
    "database = 'master'\n",
    "driver = 'ODBC Driver 17 for SQL Server'  # Ensure this driver is installed\n",
    "\n",
    "# SQLAlchemy connection string\n",
    "conn_str = f'mssql+pyodbc://@{server}/{database}?driver={driver}&trusted_connection=yes'\n",
    "\n",
    "# Create the database engine\n",
    "engine = create_engine(conn_str, echo=True)\n",
    "\n",
    "# Define Base for ORM\n",
    "Base = declarative_base()\n",
    "\n",
    "# Define the Table Model\n",
    "class User(Base):\n",
    "    __tablename__ = 'users'\n",
    "\n",
    "    id = Column(Integer, primary_key=True, autoincrement=True)\n",
    "    name = Column(String(50), nullable=False)\n",
    "    age = Column(Integer, nullable=False)\n",
    "\n",
    "# Create Table (if not exists)\n",
    "Base.metadata.create_all(engine)\n",
    "\n",
    "# Create a Session\n",
    "Session = sessionmaker(bind=engine)\n",
    "session = Session()\n"
   ]
  },
  {
   "cell_type": "code",
   "execution_count": 2,
   "metadata": {},
   "outputs": [
    {
     "name": "stdout",
     "output_type": "stream",
     "text": [
      "2025-02-19 20:27:10,554 INFO sqlalchemy.engine.Engine BEGIN (implicit)\n",
      "2025-02-19 20:27:10,556 INFO sqlalchemy.engine.Engine INSERT INTO users (name, age) OUTPUT inserted.id VALUES (?, ?)\n",
      "2025-02-19 20:27:10,558 INFO sqlalchemy.engine.Engine [generated in 0.00120s] ('Alice', 25)\n",
      "2025-02-19 20:27:10,563 INFO sqlalchemy.engine.Engine COMMIT\n",
      "User Alice inserted successfully!\n",
      "2025-02-19 20:27:10,565 INFO sqlalchemy.engine.Engine BEGIN (implicit)\n",
      "2025-02-19 20:27:10,565 INFO sqlalchemy.engine.Engine INSERT INTO users (name, age) OUTPUT inserted.id VALUES (?, ?)\n",
      "2025-02-19 20:27:10,567 INFO sqlalchemy.engine.Engine [cached since 0.01049s ago] ('Bob', 30)\n",
      "2025-02-19 20:27:10,570 INFO sqlalchemy.engine.Engine COMMIT\n",
      "User Bob inserted successfully!\n"
     ]
    }
   ],
   "source": [
    "def insert_user(name, age):\n",
    "    new_user = User(name=name, age=age)\n",
    "    session.add(new_user)\n",
    "    session.commit()\n",
    "    print(f\"User {name} inserted successfully!\")\n",
    "\n",
    "# Example Usage\n",
    "insert_user(\"Alice\", 25)\n",
    "insert_user(\"Bob\", 30)"
   ]
  },
  {
   "cell_type": "code",
   "execution_count": null,
   "metadata": {},
   "outputs": [],
   "source": []
  }
 ],
 "metadata": {
  "kernelspec": {
   "display_name": "base",
   "language": "python",
   "name": "python3"
  },
  "language_info": {
   "codemirror_mode": {
    "name": "ipython",
    "version": 3
   },
   "file_extension": ".py",
   "mimetype": "text/x-python",
   "name": "python",
   "nbconvert_exporter": "python",
   "pygments_lexer": "ipython3",
   "version": "3.12.7"
  }
 },
 "nbformat": 4,
 "nbformat_minor": 2
}
